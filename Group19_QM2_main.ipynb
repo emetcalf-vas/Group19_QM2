{
  "nbformat": 4,
  "nbformat_minor": 0,
  "metadata": {
    "colab": {
      "provenance": [],
      "name": "Group19_QM2_main.ipynb",
      "include_colab_link": true
    },
    "kernelspec": {
      "name": "python3",
      "display_name": "Python 3"
    },
    "language_info": {
      "name": "python"
    }
  },
  "cells": [
    {
      "cell_type": "markdown",
      "metadata": {
        "id": "view-in-github",
        "colab_type": "text"
      },
      "source": [
        "<a href=\"https://colab.research.google.com/github/emetcalf-vas/Group19_QM2/blob/main/Group19_QM2_main.ipynb\" target=\"_parent\"><img src=\"https://colab.research.google.com/assets/colab-badge.svg\" alt=\"Open In Colab\"/></a>"
      ]
    },
    {
      "cell_type": "markdown",
      "source": [
        "\n",
        "# QM2 Group 19 note boook\n",
        "lowkey dont know how we want to organize it all but here is kinda a test notebook/ main notebook\n",
        "\n",
        "\n",
        "\n"
      ],
      "metadata": {
        "id": "16u3nEmI4_vD"
      }
    },
    {
      "cell_type": "code",
      "execution_count": null,
      "metadata": {
        "id": "n3CVPfzD4vgQ",
        "colab": {
          "base_uri": "https://localhost:8080/"
        },
        "outputId": "4e4864f9-4612-467f-f9a7-dcc914186e37"
      },
      "outputs": [
        {
          "output_type": "stream",
          "name": "stdout",
          "text": [
            "goated group\n"
          ]
        }
      ],
      "source": [
        "print(\"goated group\")"
      ]
    },
    {
      "cell_type": "code",
      "source": [
        "print(\"loving the vibe here\")"
      ],
      "metadata": {
        "colab": {
          "base_uri": "https://localhost:8080/"
        },
        "id": "6n_cWTmZJakB",
        "outputId": "bf05bd85-1f62-4c0a-89eb-cb12a27ac7d9"
      },
      "execution_count": null,
      "outputs": [
        {
          "output_type": "stream",
          "name": "stdout",
          "text": [
            "loving the vibe here\n"
          ]
        }
      ]
    }
  ]
}