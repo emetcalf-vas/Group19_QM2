{
  "nbformat": 4,
  "nbformat_minor": 0,
  "metadata": {
    "colab": {
      "provenance": [],
      "authorship_tag": "ABX9TyMJBRbajfPgDnJ9gI1+hQWR",
      "include_colab_link": true
    },
    "kernelspec": {
      "name": "python3",
      "display_name": "Python 3"
    },
    "language_info": {
      "name": "python"
    }
  },
  "cells": [
    {
      "cell_type": "markdown",
      "metadata": {
        "id": "view-in-github",
        "colab_type": "text"
      },
      "source": [
        "<a href=\"https://colab.research.google.com/github/emetcalf-vas/Group19_QM2/blob/main/Hypothesis%20texting.ipynb\" target=\"_parent\"><img src=\"https://colab.research.google.com/assets/colab-badge.svg\" alt=\"Open In Colab\"/></a>"
      ]
    },
    {
      "cell_type": "markdown",
      "source": [
        "Hypothesis Testing:\n",
        "\n",
        "Null Hypothesis: the observed difference in house pricing is due to chance alone, H0: there is no difference in the mean housing price between county x and county y, H0:\n",
        "\n",
        "Alternative Hypothesis: the observed difference in house pricing is NOT due to chance alone, Ha: there is a difference in the mean housing price between county x and county y, HA\n"
      ],
      "metadata": {
        "id": "XmhbZd4C4fDV"
      }
    },
    {
      "cell_type": "code",
      "execution_count": null,
      "metadata": {
        "id": "jEFWK5XH4cji"
      },
      "outputs": [],
      "source": []
    }
  ]
}